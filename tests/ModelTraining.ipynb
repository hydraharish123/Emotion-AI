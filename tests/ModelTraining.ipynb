{
 "cells": [
  {
   "cell_type": "code",
   "execution_count": 1,
   "id": "6084c2f0",
   "metadata": {},
   "outputs": [],
   "source": [
    "import numpy as np\n",
    "\n",
    "y_labelled = np.load('emotion_labels.npy')\n",
    "X_labelled_pca = np.load('X_labelled_pca.npy')"
   ]
  },
  {
   "cell_type": "code",
   "execution_count": 4,
   "id": "87170300",
   "metadata": {},
   "outputs": [],
   "source": [
    "from sklearn.model_selection import GridSearchCV\n",
    "from sklearn.svm import SVC\n",
    "from sklearn.metrics import classification_report\n",
    "from sklearn.pipeline import Pipeline\n",
    "\n",
    "class SVMClassifier:\n",
    "    def __init__(self, kernel='poly', param_grid=None, cv=5, scoring='accuracy'):\n",
    "        self.param_grid = param_grid or {\n",
    "            'svc__degree': [2, 3, 4],\n",
    "            'svc__coef0': [0, 1, 5],\n",
    "            'svc__C': [0.1, 1, 10]\n",
    "        }\n",
    "        self.pipeline = Pipeline([\n",
    "            ('svc', SVC(kernel=kernel, class_weight='balanced'))\n",
    "        ])\n",
    "\n",
    "        self.grid_search = GridSearchCV(self.pipeline, self.param_grid, cv=cv, scoring=scoring)\n",
    "        self.best_model = None\n",
    "\n",
    "    def fit(self, X, y):\n",
    "        self.grid_search.fit(X, y)\n",
    "        self.best_model = self.grid_search.best_estimator_\n",
    "        print(\"Best Parameters:\", self.grid_search.best_params_)\n",
    "        print(\"Best Score:\", self.grid_search.best_score_)\n",
    "\n",
    "    def predict(self, X):\n",
    "        if self.best_model is None:\n",
    "            raise Exception(\"Model has not been trained. Call `.fit(X, y)` first.\")\n",
    "        return self.best_model.predict(X)\n",
    "    \n",
    "    def report(self, X, y_true):\n",
    "        y_pred = self.predict(X)\n",
    "        print(\"Classification Report:\\n\", classification_report(y_true, y_pred))\n"
   ]
  },
  {
   "cell_type": "code",
   "execution_count": 101,
   "id": "77e96885",
   "metadata": {},
   "outputs": [],
   "source": [
    "from sklearn.model_selection import train_test_split\n",
    "from imblearn.over_sampling import SMOTE\n",
    "X_train, X_test, y_train, y_test = train_test_split(X_labelled_pca, y_labelled, test_size=0.3, random_state=42,  stratify=y_labelled)\n"
   ]
  },
  {
   "cell_type": "code",
   "execution_count": 102,
   "id": "c2e5ab76",
   "metadata": {},
   "outputs": [
    {
     "data": {
      "text/plain": [
       "{np.str_('Anger'): np.int64(45),\n",
       " np.str_('Contempt'): np.int64(18),\n",
       " np.str_('Disgust'): np.int64(59),\n",
       " np.str_('Fear'): np.int64(25),\n",
       " np.str_('Happiness'): np.int64(69),\n",
       " np.str_('Neutral'): np.int64(593),\n",
       " np.str_('Sadness'): np.int64(28),\n",
       " np.str_('Surprise'): np.int64(83)}"
      ]
     },
     "execution_count": 102,
     "metadata": {},
     "output_type": "execute_result"
    }
   ],
   "source": [
    "import numpy as np\n",
    "\n",
    "\n",
    "unique, counts = np.unique(y_labelled, return_counts=True)\n",
    "count_dict = dict(zip(unique, counts))\n",
    "\n",
    "count_dict"
   ]
  },
  {
   "cell_type": "code",
   "execution_count": 103,
   "id": "77cc5022",
   "metadata": {},
   "outputs": [],
   "source": [
    "svm_clf = SVMClassifier(cv=10, param_grid = {\n",
    "    'svc__C': [0.1, 1, 10, 20, 30, 40, 50, 60, 70, 80, 90,  100],       \n",
    "    'svc__gamma': ['scale', 0.001, 0.01, 0.1, 1] \n",
    "}, kernel='rbf', scoring='f1_macro')"
   ]
  },
  {
   "cell_type": "code",
   "execution_count": 104,
   "id": "0ee6dc23",
   "metadata": {},
   "outputs": [],
   "source": [
    "smote = SMOTE(random_state=42)\n",
    "X_train_resampled, y_train_resampled = smote.fit_resample(X_train, y_train)"
   ]
  },
  {
   "cell_type": "code",
   "execution_count": 112,
   "id": "f0e75a25",
   "metadata": {},
   "outputs": [
    {
     "data": {
      "text/plain": [
       "array([[ 4.00245201e+02,  1.31429920e+03, -8.19288829e+01, ...,\n",
       "        -7.16436622e+01, -7.53521525e+01, -7.18449925e+01],\n",
       "       [ 2.14747523e+03,  1.91194861e+02, -8.81364639e+02, ...,\n",
       "        -1.07228203e+02,  9.56854329e+01,  5.94205646e+01],\n",
       "       [ 2.21178541e+03,  7.43415098e+02, -1.22692141e+03, ...,\n",
       "        -6.33190605e+01,  1.11993576e+02, -6.22877999e+01],\n",
       "       ...,\n",
       "       [ 2.67059487e+03, -6.82254837e+02, -1.75548252e+03, ...,\n",
       "        -9.89438628e+00, -2.74781834e+01,  5.20158623e+01],\n",
       "       [ 4.33327701e+02, -1.07726678e+03, -7.80405134e+02, ...,\n",
       "        -1.04277281e+02, -1.39700642e+02,  6.34564220e-02],\n",
       "       [ 1.10932392e+03,  1.66515260e+03, -8.34306346e+02, ...,\n",
       "        -9.17801665e+01,  6.00429870e+01, -1.12222773e+02]],\n",
       "      shape=(644, 68))"
      ]
     },
     "execution_count": 112,
     "metadata": {},
     "output_type": "execute_result"
    }
   ],
   "source": [
    "X_train"
   ]
  },
  {
   "cell_type": "code",
   "execution_count": 111,
   "id": "9928b822",
   "metadata": {},
   "outputs": [
    {
     "data": {
      "text/plain": [
       "array([[  400.24520125,  1314.29920256,   -81.92888292, ...,\n",
       "          -71.64366222,   -75.35215248,   -71.84499247],\n",
       "       [ 2147.47523369,   191.19486105,  -881.36463896, ...,\n",
       "         -107.22820323,    95.68543295,    59.42056456],\n",
       "       [ 2211.78540826,   743.41509778, -1226.9214102 , ...,\n",
       "          -63.31906048,   111.99357595,   -62.28779993],\n",
       "       ...,\n",
       "       [ -152.61205458,  -549.19312706, -1178.92403603, ...,\n",
       "         -102.7284136 ,    67.82082177,  -117.07407531],\n",
       "       [   28.47140028,   105.85970637, -1194.30587301, ...,\n",
       "           35.36852202,    83.11954833,  -146.04920606],\n",
       "       [ 1607.25165236,   490.91092164, -1851.55967849, ...,\n",
       "          103.24460165,   -37.94873302,    75.93426311]], shape=(3320, 68))"
      ]
     },
     "execution_count": 111,
     "metadata": {},
     "output_type": "execute_result"
    }
   ],
   "source": [
    "X_train_resampled"
   ]
  },
  {
   "cell_type": "code",
   "execution_count": 105,
   "id": "7298d128",
   "metadata": {},
   "outputs": [
    {
     "name": "stdout",
     "output_type": "stream",
     "text": [
      "Best Parameters: {'svc__C': 90, 'svc__gamma': 'scale'}\n",
      "Best Score: 0.9960564202515207\n"
     ]
    }
   ],
   "source": [
    "svm_clf.fit(X=X_train_resampled, y=y_train_resampled)"
   ]
  },
  {
   "cell_type": "code",
   "execution_count": 106,
   "id": "1fc97e99",
   "metadata": {},
   "outputs": [],
   "source": [
    "y_pred = svm_clf.predict(X=X_test)"
   ]
  },
  {
   "cell_type": "code",
   "execution_count": 109,
   "id": "3dcd653a",
   "metadata": {},
   "outputs": [
    {
     "data": {
      "text/plain": [
       "array(['Neutral', 'Happiness', 'Surprise', 'Neutral', 'Neutral',\n",
       "       'Neutral', 'Neutral', 'Anger', 'Disgust', 'Neutral', 'Anger',\n",
       "       'Neutral', 'Neutral', 'Neutral', 'Neutral', 'Surprise', 'Neutral',\n",
       "       'Neutral', 'Neutral', 'Neutral', 'Neutral', 'Neutral', 'Anger',\n",
       "       'Neutral', 'Happiness', 'Happiness', 'Neutral', 'Fear', 'Neutral',\n",
       "       'Neutral', 'Neutral', 'Neutral', 'Neutral', 'Neutral', 'Disgust',\n",
       "       'Neutral', 'Neutral', 'Neutral', 'Neutral', 'Sadness', 'Happiness',\n",
       "       'Neutral', 'Neutral', 'Neutral', 'Neutral', 'Neutral', 'Neutral',\n",
       "       'Neutral', 'Happiness', 'Neutral', 'Neutral', 'Neutral', 'Neutral',\n",
       "       'Neutral', 'Neutral', 'Happiness', 'Contempt', 'Neutral',\n",
       "       'Neutral', 'Neutral', 'Neutral', 'Neutral', 'Happiness', 'Neutral',\n",
       "       'Neutral', 'Disgust', 'Neutral', 'Surprise', 'Neutral', 'Surprise',\n",
       "       'Sadness', 'Surprise', 'Happiness', 'Neutral', 'Surprise',\n",
       "       'Neutral', 'Surprise', 'Neutral', 'Happiness', 'Contempt',\n",
       "       'Neutral', 'Fear', 'Neutral', 'Neutral', 'Neutral', 'Neutral',\n",
       "       'Neutral', 'Neutral', 'Neutral', 'Neutral', 'Neutral', 'Neutral',\n",
       "       'Neutral', 'Neutral', 'Neutral', 'Anger', 'Neutral', 'Neutral',\n",
       "       'Neutral', 'Neutral', 'Neutral', 'Neutral', 'Happiness',\n",
       "       'Contempt', 'Neutral', 'Neutral', 'Neutral', 'Neutral', 'Neutral',\n",
       "       'Neutral', 'Neutral', 'Neutral', 'Neutral', 'Neutral', 'Disgust',\n",
       "       'Neutral', 'Sadness', 'Neutral', 'Neutral', 'Contempt', 'Surprise',\n",
       "       'Neutral', 'Neutral', 'Neutral', 'Neutral', 'Neutral', 'Neutral',\n",
       "       'Neutral', 'Neutral', 'Neutral', 'Happiness', 'Neutral', 'Neutral',\n",
       "       'Neutral', 'Neutral', 'Neutral', 'Neutral', 'Neutral', 'Neutral',\n",
       "       'Disgust', 'Happiness', 'Surprise', 'Neutral', 'Neutral', 'Anger',\n",
       "       'Neutral', 'Neutral', 'Neutral', 'Neutral', 'Neutral', 'Happiness',\n",
       "       'Neutral', 'Surprise', 'Neutral', 'Surprise', 'Disgust', 'Neutral',\n",
       "       'Neutral', 'Neutral', 'Disgust', 'Neutral', 'Neutral', 'Neutral',\n",
       "       'Neutral', 'Neutral', 'Neutral', 'Neutral', 'Neutral', 'Neutral',\n",
       "       'Neutral', 'Neutral', 'Neutral', 'Neutral', 'Neutral', 'Neutral',\n",
       "       'Neutral', 'Neutral', 'Disgust', 'Neutral', 'Neutral', 'Anger',\n",
       "       'Neutral', 'Neutral', 'Neutral', 'Disgust', 'Neutral', 'Neutral',\n",
       "       'Happiness', 'Neutral', 'Neutral', 'Neutral', 'Neutral', 'Neutral',\n",
       "       'Neutral', 'Neutral', 'Neutral', 'Neutral', 'Neutral', 'Neutral',\n",
       "       'Neutral', 'Neutral', 'Neutral', 'Neutral', 'Neutral', 'Happiness',\n",
       "       'Neutral', 'Happiness', 'Neutral', 'Neutral', 'Surprise',\n",
       "       'Neutral', 'Neutral', 'Neutral', 'Neutral', 'Neutral', 'Neutral',\n",
       "       'Sadness', 'Neutral', 'Neutral', 'Neutral', 'Neutral', 'Surprise',\n",
       "       'Neutral', 'Neutral', 'Surprise', 'Neutral', 'Neutral', 'Anger',\n",
       "       'Neutral', 'Neutral', 'Neutral', 'Neutral', 'Surprise', 'Neutral',\n",
       "       'Neutral', 'Contempt', 'Neutral', 'Neutral', 'Neutral', 'Neutral',\n",
       "       'Neutral', 'Surprise', 'Disgust', 'Disgust', 'Neutral',\n",
       "       'Happiness', 'Surprise', 'Neutral', 'Neutral', 'Neutral',\n",
       "       'Neutral', 'Neutral', 'Neutral', 'Neutral', 'Neutral', 'Neutral',\n",
       "       'Neutral', 'Happiness', 'Neutral', 'Neutral', 'Neutral', 'Neutral',\n",
       "       'Neutral', 'Neutral', 'Neutral', 'Neutral', 'Neutral', 'Neutral',\n",
       "       'Neutral', 'Happiness', 'Neutral', 'Neutral', 'Surprise', 'Fear',\n",
       "       'Neutral', 'Neutral'], dtype='<U9')"
      ]
     },
     "execution_count": 109,
     "metadata": {},
     "output_type": "execute_result"
    }
   ],
   "source": [
    "y_pred"
   ]
  },
  {
   "cell_type": "code",
   "execution_count": 110,
   "id": "dc04dc70",
   "metadata": {},
   "outputs": [
    {
     "name": "stdout",
     "output_type": "stream",
     "text": [
      "Classification Report:\n",
      "               precision    recall  f1-score   support\n",
      "\n",
      "       Anger       0.71      0.38      0.50        13\n",
      "    Contempt       0.00      0.00      0.00         5\n",
      "     Disgust       1.00      0.61      0.76        18\n",
      "        Fear       1.00      0.38      0.55         8\n",
      "   Happiness       0.95      0.86      0.90        21\n",
      "     Neutral       0.83      0.97      0.89       178\n",
      "     Sadness       0.75      0.38      0.50         8\n",
      "    Surprise       0.89      0.64      0.74        25\n",
      "\n",
      "    accuracy                           0.83       276\n",
      "   macro avg       0.77      0.53      0.61       276\n",
      "weighted avg       0.84      0.83      0.82       276\n",
      "\n"
     ]
    }
   ],
   "source": [
    "svm_clf.report(X=X_test, y_true=y_test)"
   ]
  },
  {
   "cell_type": "code",
   "execution_count": 108,
   "id": "aa47523d",
   "metadata": {},
   "outputs": [
    {
     "data": {
      "text/plain": [
       "array([[  5,   0,   0,   0,   0,   8,   0,   0],\n",
       "       [  0,   0,   0,   0,   0,   5,   0,   0],\n",
       "       [  0,   0,  11,   0,   1,   6,   0,   0],\n",
       "       [  0,   3,   0,   3,   0,   2,   0,   0],\n",
       "       [  1,   0,   0,   0,  18,   2,   0,   0],\n",
       "       [  0,   2,   0,   0,   0, 173,   1,   2],\n",
       "       [  1,   0,   0,   0,   0,   4,   3,   0],\n",
       "       [  0,   0,   0,   0,   0,   9,   0,  16]])"
      ]
     },
     "execution_count": 108,
     "metadata": {},
     "output_type": "execute_result"
    }
   ],
   "source": [
    "from sklearn.metrics import confusion_matrix\n",
    "\n",
    "cm = confusion_matrix(y_pred=y_pred, y_true=y_test)\n",
    "cm"
   ]
  },
  {
   "cell_type": "code",
   "execution_count": 136,
   "id": "ed5de13d",
   "metadata": {},
   "outputs": [],
   "source": [
    "from sklearn.utils import resample\n",
    "import pandas as pd\n",
    "\n",
    "# Combine X and y into a DataFrame\n",
    "df = pd.DataFrame(X_labelled_pca)\n",
    "df['label'] = y_labelled\n",
    "\n",
    "# Create separate dataframes for each class\n",
    "neutral_df = df[df['label'] == 'Neutral']\n",
    "minority_df = df[df['label'] != 'Neutral']\n",
    "\n",
    "# Downsample Neutral to match the minority size\n",
    "neutral_downsampled = resample(neutral_df, \n",
    "                               replace=False, \n",
    "                               n_samples=len(minority_df), \n",
    "                               random_state=42)\n",
    "\n",
    "# Combine and shuffle\n",
    "balanced_subset = pd.concat([neutral_downsampled, minority_df])\n",
    "balanced_subset = balanced_subset.sample(frac=1, random_state=42)  # shuffle\n",
    "\n",
    "X_subset = balanced_subset.drop('label', axis=1).values\n",
    "y_subset = balanced_subset['label'].values\n"
   ]
  },
  {
   "cell_type": "code",
   "execution_count": 137,
   "id": "098f86b2",
   "metadata": {},
   "outputs": [
    {
     "data": {
      "text/html": [
       "<div>\n",
       "<style scoped>\n",
       "    .dataframe tbody tr th:only-of-type {\n",
       "        vertical-align: middle;\n",
       "    }\n",
       "\n",
       "    .dataframe tbody tr th {\n",
       "        vertical-align: top;\n",
       "    }\n",
       "\n",
       "    .dataframe thead th {\n",
       "        text-align: right;\n",
       "    }\n",
       "</style>\n",
       "<table border=\"1\" class=\"dataframe\">\n",
       "  <thead>\n",
       "    <tr style=\"text-align: right;\">\n",
       "      <th></th>\n",
       "      <th>0</th>\n",
       "      <th>1</th>\n",
       "      <th>2</th>\n",
       "      <th>3</th>\n",
       "      <th>4</th>\n",
       "      <th>5</th>\n",
       "      <th>6</th>\n",
       "      <th>7</th>\n",
       "      <th>8</th>\n",
       "      <th>9</th>\n",
       "      <th>...</th>\n",
       "      <th>59</th>\n",
       "      <th>60</th>\n",
       "      <th>61</th>\n",
       "      <th>62</th>\n",
       "      <th>63</th>\n",
       "      <th>64</th>\n",
       "      <th>65</th>\n",
       "      <th>66</th>\n",
       "      <th>67</th>\n",
       "      <th>label</th>\n",
       "    </tr>\n",
       "  </thead>\n",
       "  <tbody>\n",
       "    <tr>\n",
       "      <th>0</th>\n",
       "      <td>-396.303520</td>\n",
       "      <td>949.051268</td>\n",
       "      <td>-111.104701</td>\n",
       "      <td>-538.943371</td>\n",
       "      <td>199.580067</td>\n",
       "      <td>-845.017971</td>\n",
       "      <td>-349.541572</td>\n",
       "      <td>-580.330680</td>\n",
       "      <td>-373.950313</td>\n",
       "      <td>133.142826</td>\n",
       "      <td>...</td>\n",
       "      <td>145.214582</td>\n",
       "      <td>-45.109076</td>\n",
       "      <td>-105.038878</td>\n",
       "      <td>-229.007887</td>\n",
       "      <td>-200.261830</td>\n",
       "      <td>-48.528872</td>\n",
       "      <td>-87.416680</td>\n",
       "      <td>144.755620</td>\n",
       "      <td>-144.690525</td>\n",
       "      <td>Neutral</td>\n",
       "    </tr>\n",
       "    <tr>\n",
       "      <th>1</th>\n",
       "      <td>2100.259086</td>\n",
       "      <td>474.722929</td>\n",
       "      <td>-2320.169145</td>\n",
       "      <td>-600.447396</td>\n",
       "      <td>2387.355348</td>\n",
       "      <td>1092.173397</td>\n",
       "      <td>329.944673</td>\n",
       "      <td>-56.052682</td>\n",
       "      <td>-448.693229</td>\n",
       "      <td>549.181735</td>\n",
       "      <td>...</td>\n",
       "      <td>-381.262964</td>\n",
       "      <td>158.246769</td>\n",
       "      <td>-228.482400</td>\n",
       "      <td>-376.579220</td>\n",
       "      <td>-488.382019</td>\n",
       "      <td>30.056388</td>\n",
       "      <td>79.087073</td>\n",
       "      <td>-125.018024</td>\n",
       "      <td>-45.230635</td>\n",
       "      <td>Neutral</td>\n",
       "    </tr>\n",
       "    <tr>\n",
       "      <th>2</th>\n",
       "      <td>404.833623</td>\n",
       "      <td>654.554513</td>\n",
       "      <td>-1387.410773</td>\n",
       "      <td>-66.524433</td>\n",
       "      <td>2169.383725</td>\n",
       "      <td>75.470377</td>\n",
       "      <td>9.505847</td>\n",
       "      <td>770.841489</td>\n",
       "      <td>-848.653878</td>\n",
       "      <td>1008.312867</td>\n",
       "      <td>...</td>\n",
       "      <td>-71.737138</td>\n",
       "      <td>2.699155</td>\n",
       "      <td>-191.099919</td>\n",
       "      <td>-372.914756</td>\n",
       "      <td>-356.559912</td>\n",
       "      <td>-135.285255</td>\n",
       "      <td>243.080246</td>\n",
       "      <td>226.491997</td>\n",
       "      <td>-197.173851</td>\n",
       "      <td>Neutral</td>\n",
       "    </tr>\n",
       "    <tr>\n",
       "      <th>3</th>\n",
       "      <td>3109.171996</td>\n",
       "      <td>173.046114</td>\n",
       "      <td>-1376.551194</td>\n",
       "      <td>-394.079477</td>\n",
       "      <td>2913.549884</td>\n",
       "      <td>668.442897</td>\n",
       "      <td>181.869845</td>\n",
       "      <td>25.466892</td>\n",
       "      <td>-580.445211</td>\n",
       "      <td>992.901128</td>\n",
       "      <td>...</td>\n",
       "      <td>2.396512</td>\n",
       "      <td>314.383404</td>\n",
       "      <td>-212.659519</td>\n",
       "      <td>-147.079742</td>\n",
       "      <td>-434.102296</td>\n",
       "      <td>-44.397042</td>\n",
       "      <td>-10.293212</td>\n",
       "      <td>11.472211</td>\n",
       "      <td>-6.268691</td>\n",
       "      <td>Neutral</td>\n",
       "    </tr>\n",
       "    <tr>\n",
       "      <th>4</th>\n",
       "      <td>2147.475234</td>\n",
       "      <td>191.194861</td>\n",
       "      <td>-881.364639</td>\n",
       "      <td>-742.537040</td>\n",
       "      <td>2081.106484</td>\n",
       "      <td>-350.717502</td>\n",
       "      <td>-76.491123</td>\n",
       "      <td>102.556122</td>\n",
       "      <td>-265.885635</td>\n",
       "      <td>511.479933</td>\n",
       "      <td>...</td>\n",
       "      <td>-285.786856</td>\n",
       "      <td>337.139618</td>\n",
       "      <td>-160.554938</td>\n",
       "      <td>-125.240813</td>\n",
       "      <td>-352.414820</td>\n",
       "      <td>74.929273</td>\n",
       "      <td>-107.228203</td>\n",
       "      <td>95.685433</td>\n",
       "      <td>59.420565</td>\n",
       "      <td>Neutral</td>\n",
       "    </tr>\n",
       "    <tr>\n",
       "      <th>...</th>\n",
       "      <td>...</td>\n",
       "      <td>...</td>\n",
       "      <td>...</td>\n",
       "      <td>...</td>\n",
       "      <td>...</td>\n",
       "      <td>...</td>\n",
       "      <td>...</td>\n",
       "      <td>...</td>\n",
       "      <td>...</td>\n",
       "      <td>...</td>\n",
       "      <td>...</td>\n",
       "      <td>...</td>\n",
       "      <td>...</td>\n",
       "      <td>...</td>\n",
       "      <td>...</td>\n",
       "      <td>...</td>\n",
       "      <td>...</td>\n",
       "      <td>...</td>\n",
       "      <td>...</td>\n",
       "      <td>...</td>\n",
       "      <td>...</td>\n",
       "    </tr>\n",
       "    <tr>\n",
       "      <th>915</th>\n",
       "      <td>3480.230358</td>\n",
       "      <td>298.008164</td>\n",
       "      <td>110.478042</td>\n",
       "      <td>-1173.910843</td>\n",
       "      <td>2685.800702</td>\n",
       "      <td>-81.636357</td>\n",
       "      <td>-141.154329</td>\n",
       "      <td>-85.025914</td>\n",
       "      <td>-611.922107</td>\n",
       "      <td>938.644764</td>\n",
       "      <td>...</td>\n",
       "      <td>-136.344071</td>\n",
       "      <td>28.020016</td>\n",
       "      <td>30.671036</td>\n",
       "      <td>-532.954898</td>\n",
       "      <td>84.377678</td>\n",
       "      <td>-94.753970</td>\n",
       "      <td>37.530072</td>\n",
       "      <td>303.226470</td>\n",
       "      <td>-24.601827</td>\n",
       "      <td>Surprise</td>\n",
       "    </tr>\n",
       "    <tr>\n",
       "      <th>916</th>\n",
       "      <td>-1425.466716</td>\n",
       "      <td>-27.355083</td>\n",
       "      <td>-536.776608</td>\n",
       "      <td>-601.039476</td>\n",
       "      <td>450.396471</td>\n",
       "      <td>-903.678907</td>\n",
       "      <td>-376.209347</td>\n",
       "      <td>-206.613449</td>\n",
       "      <td>-414.152282</td>\n",
       "      <td>426.446675</td>\n",
       "      <td>...</td>\n",
       "      <td>-216.309523</td>\n",
       "      <td>177.577334</td>\n",
       "      <td>-115.267890</td>\n",
       "      <td>-166.442630</td>\n",
       "      <td>-225.119375</td>\n",
       "      <td>13.379492</td>\n",
       "      <td>-46.102861</td>\n",
       "      <td>32.376972</td>\n",
       "      <td>-35.025196</td>\n",
       "      <td>Surprise</td>\n",
       "    </tr>\n",
       "    <tr>\n",
       "      <th>917</th>\n",
       "      <td>2281.093014</td>\n",
       "      <td>52.390126</td>\n",
       "      <td>-1379.147762</td>\n",
       "      <td>-676.383289</td>\n",
       "      <td>1912.865592</td>\n",
       "      <td>312.296603</td>\n",
       "      <td>4.606913</td>\n",
       "      <td>-619.066320</td>\n",
       "      <td>-443.051372</td>\n",
       "      <td>300.917326</td>\n",
       "      <td>...</td>\n",
       "      <td>-133.973307</td>\n",
       "      <td>-71.618230</td>\n",
       "      <td>-182.707330</td>\n",
       "      <td>-180.207003</td>\n",
       "      <td>35.388049</td>\n",
       "      <td>138.225703</td>\n",
       "      <td>-221.413784</td>\n",
       "      <td>61.117156</td>\n",
       "      <td>-11.849902</td>\n",
       "      <td>Surprise</td>\n",
       "    </tr>\n",
       "    <tr>\n",
       "      <th>918</th>\n",
       "      <td>1186.409681</td>\n",
       "      <td>1943.653535</td>\n",
       "      <td>-1380.650188</td>\n",
       "      <td>-808.185303</td>\n",
       "      <td>963.090386</td>\n",
       "      <td>1706.000692</td>\n",
       "      <td>588.065425</td>\n",
       "      <td>-230.622254</td>\n",
       "      <td>-778.570315</td>\n",
       "      <td>386.218710</td>\n",
       "      <td>...</td>\n",
       "      <td>-154.780183</td>\n",
       "      <td>148.757109</td>\n",
       "      <td>-15.050085</td>\n",
       "      <td>-583.600784</td>\n",
       "      <td>-205.727097</td>\n",
       "      <td>183.911879</td>\n",
       "      <td>-68.198638</td>\n",
       "      <td>55.874591</td>\n",
       "      <td>135.063733</td>\n",
       "      <td>Surprise</td>\n",
       "    </tr>\n",
       "    <tr>\n",
       "      <th>919</th>\n",
       "      <td>1912.907020</td>\n",
       "      <td>1185.727453</td>\n",
       "      <td>-1888.176951</td>\n",
       "      <td>-967.435433</td>\n",
       "      <td>1952.587089</td>\n",
       "      <td>802.948106</td>\n",
       "      <td>63.964091</td>\n",
       "      <td>-921.819065</td>\n",
       "      <td>-691.377920</td>\n",
       "      <td>943.825598</td>\n",
       "      <td>...</td>\n",
       "      <td>-135.648181</td>\n",
       "      <td>228.495009</td>\n",
       "      <td>-470.703453</td>\n",
       "      <td>70.878503</td>\n",
       "      <td>-115.688778</td>\n",
       "      <td>222.087200</td>\n",
       "      <td>45.420228</td>\n",
       "      <td>-65.742291</td>\n",
       "      <td>-169.790345</td>\n",
       "      <td>Surprise</td>\n",
       "    </tr>\n",
       "  </tbody>\n",
       "</table>\n",
       "<p>920 rows × 69 columns</p>\n",
       "</div>"
      ],
      "text/plain": [
       "               0            1            2            3            4  \\\n",
       "0    -396.303520   949.051268  -111.104701  -538.943371   199.580067   \n",
       "1    2100.259086   474.722929 -2320.169145  -600.447396  2387.355348   \n",
       "2     404.833623   654.554513 -1387.410773   -66.524433  2169.383725   \n",
       "3    3109.171996   173.046114 -1376.551194  -394.079477  2913.549884   \n",
       "4    2147.475234   191.194861  -881.364639  -742.537040  2081.106484   \n",
       "..           ...          ...          ...          ...          ...   \n",
       "915  3480.230358   298.008164   110.478042 -1173.910843  2685.800702   \n",
       "916 -1425.466716   -27.355083  -536.776608  -601.039476   450.396471   \n",
       "917  2281.093014    52.390126 -1379.147762  -676.383289  1912.865592   \n",
       "918  1186.409681  1943.653535 -1380.650188  -808.185303   963.090386   \n",
       "919  1912.907020  1185.727453 -1888.176951  -967.435433  1952.587089   \n",
       "\n",
       "               5           6           7           8            9  ...  \\\n",
       "0    -845.017971 -349.541572 -580.330680 -373.950313   133.142826  ...   \n",
       "1    1092.173397  329.944673  -56.052682 -448.693229   549.181735  ...   \n",
       "2      75.470377    9.505847  770.841489 -848.653878  1008.312867  ...   \n",
       "3     668.442897  181.869845   25.466892 -580.445211   992.901128  ...   \n",
       "4    -350.717502  -76.491123  102.556122 -265.885635   511.479933  ...   \n",
       "..           ...         ...         ...         ...          ...  ...   \n",
       "915   -81.636357 -141.154329  -85.025914 -611.922107   938.644764  ...   \n",
       "916  -903.678907 -376.209347 -206.613449 -414.152282   426.446675  ...   \n",
       "917   312.296603    4.606913 -619.066320 -443.051372   300.917326  ...   \n",
       "918  1706.000692  588.065425 -230.622254 -778.570315   386.218710  ...   \n",
       "919   802.948106   63.964091 -921.819065 -691.377920   943.825598  ...   \n",
       "\n",
       "             59          60          61          62          63          64  \\\n",
       "0    145.214582  -45.109076 -105.038878 -229.007887 -200.261830  -48.528872   \n",
       "1   -381.262964  158.246769 -228.482400 -376.579220 -488.382019   30.056388   \n",
       "2    -71.737138    2.699155 -191.099919 -372.914756 -356.559912 -135.285255   \n",
       "3      2.396512  314.383404 -212.659519 -147.079742 -434.102296  -44.397042   \n",
       "4   -285.786856  337.139618 -160.554938 -125.240813 -352.414820   74.929273   \n",
       "..          ...         ...         ...         ...         ...         ...   \n",
       "915 -136.344071   28.020016   30.671036 -532.954898   84.377678  -94.753970   \n",
       "916 -216.309523  177.577334 -115.267890 -166.442630 -225.119375   13.379492   \n",
       "917 -133.973307  -71.618230 -182.707330 -180.207003   35.388049  138.225703   \n",
       "918 -154.780183  148.757109  -15.050085 -583.600784 -205.727097  183.911879   \n",
       "919 -135.648181  228.495009 -470.703453   70.878503 -115.688778  222.087200   \n",
       "\n",
       "             65          66          67     label  \n",
       "0    -87.416680  144.755620 -144.690525   Neutral  \n",
       "1     79.087073 -125.018024  -45.230635   Neutral  \n",
       "2    243.080246  226.491997 -197.173851   Neutral  \n",
       "3    -10.293212   11.472211   -6.268691   Neutral  \n",
       "4   -107.228203   95.685433   59.420565   Neutral  \n",
       "..          ...         ...         ...       ...  \n",
       "915   37.530072  303.226470  -24.601827  Surprise  \n",
       "916  -46.102861   32.376972  -35.025196  Surprise  \n",
       "917 -221.413784   61.117156  -11.849902  Surprise  \n",
       "918  -68.198638   55.874591  135.063733  Surprise  \n",
       "919   45.420228  -65.742291 -169.790345  Surprise  \n",
       "\n",
       "[920 rows x 69 columns]"
      ]
     },
     "execution_count": 137,
     "metadata": {},
     "output_type": "execute_result"
    }
   ],
   "source": [
    "df"
   ]
  },
  {
   "cell_type": "code",
   "execution_count": 138,
   "id": "58139143",
   "metadata": {},
   "outputs": [
    {
     "data": {
      "text/plain": [
       "array([[ 2.09680522e+03,  1.64658942e+02, -1.93998579e+03, ...,\n",
       "        -1.65685598e+02,  3.90469542e+00, -1.16358790e+02],\n",
       "       [ 4.13676691e+03,  1.74880248e+03, -1.96998476e+03, ...,\n",
       "         9.94847440e+01, -2.56253146e+02,  1.58595535e+02],\n",
       "       [ 3.68341217e+03,  8.23473236e+02, -1.16086239e+03, ...,\n",
       "         1.16799859e+00, -4.70913902e+01, -9.42529543e+01],\n",
       "       ...,\n",
       "       [-1.93851930e+03, -4.66175209e+02, -5.90004124e+01, ...,\n",
       "        -1.19412344e+02,  2.18448992e+02, -6.99186794e+01],\n",
       "       [-1.19441320e+03, -7.16413004e+02,  3.91550274e+02, ...,\n",
       "         6.16106752e+00, -3.80985094e+01, -4.16924529e+01],\n",
       "       [ 3.12089458e+03, -7.95874950e+01, -2.25299506e+03, ...,\n",
       "         2.19233683e+02, -1.63770752e+02,  6.82761473e+01]],\n",
       "      shape=(654, 68))"
      ]
     },
     "execution_count": 138,
     "metadata": {},
     "output_type": "execute_result"
    }
   ],
   "source": [
    "X_subset"
   ]
  },
  {
   "cell_type": "code",
   "execution_count": 139,
   "id": "88a05497",
   "metadata": {},
   "outputs": [
    {
     "data": {
      "text/plain": [
       "{np.str_('Anger'): np.int64(45),\n",
       " np.str_('Contempt'): np.int64(18),\n",
       " np.str_('Disgust'): np.int64(59),\n",
       " np.str_('Fear'): np.int64(25),\n",
       " np.str_('Happiness'): np.int64(69),\n",
       " np.str_('Neutral'): np.int64(593),\n",
       " np.str_('Sadness'): np.int64(28),\n",
       " np.str_('Surprise'): np.int64(83)}"
      ]
     },
     "execution_count": 139,
     "metadata": {},
     "output_type": "execute_result"
    }
   ],
   "source": [
    "import numpy as np\n",
    "\n",
    "\n",
    "unique, counts = np.unique(y_labelled, return_counts=True)\n",
    "count_dict = dict(zip(unique, counts))\n",
    "\n",
    "count_dict"
   ]
  },
  {
   "cell_type": "code",
   "execution_count": 140,
   "id": "dbba3d49",
   "metadata": {},
   "outputs": [
    {
     "data": {
      "text/plain": [
       "{'Anger': np.int64(45),\n",
       " 'Contempt': np.int64(18),\n",
       " 'Disgust': np.int64(59),\n",
       " 'Fear': np.int64(25),\n",
       " 'Happiness': np.int64(69),\n",
       " 'Neutral': np.int64(327),\n",
       " 'Sadness': np.int64(28),\n",
       " 'Surprise': np.int64(83)}"
      ]
     },
     "execution_count": 140,
     "metadata": {},
     "output_type": "execute_result"
    }
   ],
   "source": [
    "import numpy as np\n",
    "\n",
    "\n",
    "unique, counts = np.unique(y_subset, return_counts=True)\n",
    "count_dict = dict(zip(unique, counts))\n",
    "\n",
    "count_dict"
   ]
  },
  {
   "cell_type": "code",
   "execution_count": 121,
   "id": "2453ebf0",
   "metadata": {},
   "outputs": [],
   "source": [
    "## Using subset"
   ]
  },
  {
   "cell_type": "code",
   "execution_count": 142,
   "id": "6aa7561f",
   "metadata": {},
   "outputs": [],
   "source": [
    "from sklearn.model_selection import train_test_split\n",
    "\n",
    "X_train, X_test, y_train, y_test = train_test_split(X_subset, y_subset, test_size=0.3, random_state=42,  stratify=y_subset)\n"
   ]
  },
  {
   "cell_type": "code",
   "execution_count": 143,
   "id": "d35e59e5",
   "metadata": {},
   "outputs": [],
   "source": [
    "svm_clf = SVMClassifier(cv=10, param_grid = {\n",
    "    'svc__C': [0.1, 1, 10, 20, 30, 40, 50, 60, 70, 80, 90,  100],       \n",
    "    'svc__gamma': ['scale', 0.001, 0.01, 0.1, 1] \n",
    "}, kernel='rbf', scoring='f1_macro')"
   ]
  },
  {
   "cell_type": "code",
   "execution_count": 144,
   "id": "f41008f6",
   "metadata": {},
   "outputs": [
    {
     "name": "stdout",
     "output_type": "stream",
     "text": [
      "Best Parameters: {'svc__C': 100, 'svc__gamma': 'scale'}\n",
      "Best Score: 0.4785311472250739\n"
     ]
    }
   ],
   "source": [
    "svm_clf.fit(X=X_train, y=y_train)"
   ]
  },
  {
   "cell_type": "code",
   "execution_count": 145,
   "id": "29b7d010",
   "metadata": {},
   "outputs": [],
   "source": [
    "y_pred = svm_clf.predict(X=X_test)"
   ]
  },
  {
   "cell_type": "code",
   "execution_count": 146,
   "id": "d1eaaf6d",
   "metadata": {},
   "outputs": [
    {
     "name": "stdout",
     "output_type": "stream",
     "text": [
      "Classification Report:\n",
      "               precision    recall  f1-score   support\n",
      "\n",
      "       Anger       0.41      0.50      0.45        14\n",
      "    Contempt       0.20      0.20      0.20         5\n",
      "     Disgust       0.92      0.61      0.73        18\n",
      "        Fear       0.33      0.25      0.29         8\n",
      "   Happiness       0.89      0.76      0.82        21\n",
      "     Neutral       0.76      0.91      0.83        98\n",
      "     Sadness       0.00      0.00      0.00         8\n",
      "    Surprise       0.90      0.72      0.80        25\n",
      "\n",
      "    accuracy                           0.73       197\n",
      "   macro avg       0.55      0.49      0.51       197\n",
      "weighted avg       0.72      0.73      0.72       197\n",
      "\n"
     ]
    }
   ],
   "source": [
    "svm_clf.report(X=X_test, y_true=y_test)"
   ]
  },
  {
   "cell_type": "code",
   "execution_count": 147,
   "id": "0ebeb8df",
   "metadata": {},
   "outputs": [
    {
     "data": {
      "text/plain": [
       "array([[ 7,  1,  0,  0,  0,  6,  0,  0],\n",
       "       [ 0,  1,  0,  1,  0,  2,  1,  0],\n",
       "       [ 2,  0, 11,  0,  0,  5,  0,  0],\n",
       "       [ 0,  0,  0,  2,  2,  3,  0,  1],\n",
       "       [ 0,  0,  1,  2, 16,  2,  0,  0],\n",
       "       [ 5,  3,  0,  0,  0, 89,  0,  1],\n",
       "       [ 1,  0,  0,  0,  0,  7,  0,  0],\n",
       "       [ 2,  0,  0,  1,  0,  3,  1, 18]])"
      ]
     },
     "execution_count": 147,
     "metadata": {},
     "output_type": "execute_result"
    }
   ],
   "source": [
    "from sklearn.metrics import confusion_matrix\n",
    "\n",
    "cm = confusion_matrix(y_pred=y_pred, y_true=y_test)\n",
    "cm"
   ]
  },
  {
   "cell_type": "code",
   "execution_count": 148,
   "id": "ba578d0f",
   "metadata": {},
   "outputs": [],
   "source": [
    "## Subset plus SMOTE"
   ]
  },
  {
   "cell_type": "code",
   "execution_count": 149,
   "id": "cac61432",
   "metadata": {},
   "outputs": [],
   "source": [
    "from sklearn.model_selection import train_test_split\n",
    "\n",
    "X_train, X_test, y_train, y_test = train_test_split(X_subset, y_subset, test_size=0.3, random_state=42,  stratify=y_subset)\n"
   ]
  },
  {
   "cell_type": "code",
   "execution_count": 150,
   "id": "7301717c",
   "metadata": {},
   "outputs": [],
   "source": [
    "smote = SMOTE(random_state=42)\n",
    "X_train_subset_Smote, y_train_subset_Smote = smote.fit_resample(X_train, y_train)"
   ]
  },
  {
   "cell_type": "code",
   "execution_count": 154,
   "id": "22baa84a",
   "metadata": {},
   "outputs": [],
   "source": [
    "svm_clf = SVMClassifier(cv=10, param_grid = {\n",
    "    'svc__C': [0.1, 1, 10, 20, 30, 40, 50, 60, 70, 80, 90,  100],       \n",
    "    'svc__gamma': ['scale', 0.001, 0.01, 0.1, 1] \n",
    "}, kernel='rbf', scoring='f1_macro')"
   ]
  },
  {
   "cell_type": "code",
   "execution_count": 152,
   "id": "81b99011",
   "metadata": {},
   "outputs": [
    {
     "data": {
      "text/plain": [
       "array([[ 1.30730387e+03, -8.53327366e+02, -1.13951346e+03, ...,\n",
       "        -2.30566855e+02, -6.94791920e+01, -7.79034518e+01],\n",
       "       [ 1.50432357e+03, -4.84312008e+02, -1.07021055e+03, ...,\n",
       "        -7.69496495e+01,  2.02684484e+02, -3.12307502e+02],\n",
       "       [ 6.57342603e+02, -1.74101439e+02, -9.53171200e+02, ...,\n",
       "         3.31937265e+01, -1.43128769e+00,  1.78243164e+01],\n",
       "       ...,\n",
       "       [ 1.18447291e+03, -6.02057209e+02, -1.38893641e+03, ...,\n",
       "        -1.44429103e+02, -3.09516403e+01, -3.17827157e+01],\n",
       "       [ 1.10368887e+03,  2.72794568e+02, -1.61530515e+03, ...,\n",
       "        -2.00133573e+02,  1.55399302e+02, -1.18798948e+02],\n",
       "       [ 9.45385953e+02,  3.59997393e+02, -1.79010796e+03, ...,\n",
       "        -2.22539281e+02,  1.59696393e+02, -1.64652117e+02]],\n",
       "      shape=(1832, 68))"
      ]
     },
     "execution_count": 152,
     "metadata": {},
     "output_type": "execute_result"
    }
   ],
   "source": [
    "X_train_subset_Smote"
   ]
  },
  {
   "cell_type": "code",
   "execution_count": 153,
   "id": "ac283f49",
   "metadata": {},
   "outputs": [
    {
     "data": {
      "text/plain": [
       "array(['Neutral', 'Happiness', 'Neutral', ..., 'Surprise', 'Surprise',\n",
       "       'Surprise'], shape=(1832,), dtype=object)"
      ]
     },
     "execution_count": 153,
     "metadata": {},
     "output_type": "execute_result"
    }
   ],
   "source": [
    "y_train_subset_Smote"
   ]
  },
  {
   "cell_type": "code",
   "execution_count": 155,
   "id": "cbb29810",
   "metadata": {},
   "outputs": [
    {
     "name": "stdout",
     "output_type": "stream",
     "text": [
      "Best Parameters: {'svc__C': 60, 'svc__gamma': 'scale'}\n",
      "Best Score: 0.9900427814924159\n"
     ]
    }
   ],
   "source": [
    "svm_clf.fit(X=X_train_subset_Smote, y=y_train_subset_Smote)"
   ]
  },
  {
   "cell_type": "code",
   "execution_count": 156,
   "id": "cd47f88c",
   "metadata": {},
   "outputs": [],
   "source": [
    "y_pred_subset_smote = svm_clf.predict(X=X_test)"
   ]
  },
  {
   "cell_type": "code",
   "execution_count": 157,
   "id": "dec1904d",
   "metadata": {},
   "outputs": [
    {
     "name": "stdout",
     "output_type": "stream",
     "text": [
      "Classification Report:\n",
      "               precision    recall  f1-score   support\n",
      "\n",
      "       Anger       0.50      0.57      0.53        14\n",
      "    Contempt       0.33      0.20      0.25         5\n",
      "     Disgust       0.85      0.61      0.71        18\n",
      "        Fear       0.20      0.12      0.15         8\n",
      "   Happiness       0.89      0.76      0.82        21\n",
      "     Neutral       0.75      0.94      0.84        98\n",
      "     Sadness       0.00      0.00      0.00         8\n",
      "    Surprise       0.94      0.68      0.79        25\n",
      "\n",
      "    accuracy                           0.74       197\n",
      "   macro avg       0.56      0.49      0.51       197\n",
      "weighted avg       0.72      0.74      0.72       197\n",
      "\n"
     ]
    }
   ],
   "source": [
    "svm_clf.report(X=X_test, y_true=y_test)"
   ]
  },
  {
   "cell_type": "code",
   "execution_count": 158,
   "id": "ef4fe97e",
   "metadata": {},
   "outputs": [
    {
     "data": {
      "text/plain": [
       "array([[ 7,  1,  0,  0,  0,  6,  0,  0],\n",
       "       [ 0,  1,  0,  1,  0,  2,  1,  0],\n",
       "       [ 2,  0, 11,  0,  0,  5,  0,  0],\n",
       "       [ 0,  0,  0,  2,  2,  3,  0,  1],\n",
       "       [ 0,  0,  1,  2, 16,  2,  0,  0],\n",
       "       [ 5,  3,  0,  0,  0, 89,  0,  1],\n",
       "       [ 1,  0,  0,  0,  0,  7,  0,  0],\n",
       "       [ 2,  0,  0,  1,  0,  3,  1, 18]])"
      ]
     },
     "execution_count": 158,
     "metadata": {},
     "output_type": "execute_result"
    }
   ],
   "source": [
    "from sklearn.metrics import confusion_matrix\n",
    "\n",
    "cm = confusion_matrix(y_pred=y_pred, y_true=y_test)\n",
    "cm"
   ]
  },
  {
   "cell_type": "code",
   "execution_count": 159,
   "id": "e16f59b9",
   "metadata": {},
   "outputs": [
    {
     "data": {
      "text/plain": [
       "{'Anger': np.int64(14),\n",
       " 'Contempt': np.int64(5),\n",
       " 'Disgust': np.int64(18),\n",
       " 'Fear': np.int64(8),\n",
       " 'Happiness': np.int64(21),\n",
       " 'Neutral': np.int64(98),\n",
       " 'Sadness': np.int64(8),\n",
       " 'Surprise': np.int64(25)}"
      ]
     },
     "execution_count": 159,
     "metadata": {},
     "output_type": "execute_result"
    }
   ],
   "source": [
    "import numpy as np\n",
    "\n",
    "\n",
    "unique, counts = np.unique(y_test, return_counts=True)\n",
    "count_dict = dict(zip(unique, counts))\n",
    "\n",
    "count_dict"
   ]
  },
  {
   "cell_type": "code",
   "execution_count": null,
   "id": "dfa482ff",
   "metadata": {},
   "outputs": [],
   "source": []
  }
 ],
 "metadata": {
  "kernelspec": {
   "display_name": "Python 3",
   "language": "python",
   "name": "python3"
  },
  "language_info": {
   "codemirror_mode": {
    "name": "ipython",
    "version": 3
   },
   "file_extension": ".py",
   "mimetype": "text/x-python",
   "name": "python",
   "nbconvert_exporter": "python",
   "pygments_lexer": "ipython3",
   "version": "3.12.10"
  }
 },
 "nbformat": 4,
 "nbformat_minor": 5
}
