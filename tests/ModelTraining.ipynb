{
 "cells": [
  {
   "cell_type": "code",
   "execution_count": 94,
   "id": "6084c2f0",
   "metadata": {},
   "outputs": [],
   "source": [
    "import numpy as np\n",
    "\n",
    "y_labelled = np.load('emotion_labels.npy')\n",
    "X_labelled_pca = np.load('X_labelled_pca.npy')"
   ]
  },
  {
   "cell_type": "code",
   "execution_count": 95,
   "id": "87170300",
   "metadata": {},
   "outputs": [],
   "source": [
    "from sklearn.model_selection import GridSearchCV\n",
    "from sklearn.svm import SVC\n",
    "from sklearn.metrics import classification_report\n",
    "from sklearn.pipeline import Pipeline\n",
    "\n",
    "class SVMClassifier:\n",
    "    def __init__(self, kernel='poly', param_grid=None, cv=5, scoring='accuracy'):\n",
    "        self.param_grid = param_grid or {\n",
    "            'svc__degree': [2, 3, 4],\n",
    "            'svc__coef0': [0, 1, 5],\n",
    "            'svc__C': [0.1, 1, 10]\n",
    "        }\n",
    "        self.pipeline = Pipeline([\n",
    "            ('svc', SVC(kernel=kernel, class_weight='balanced'))\n",
    "        ])\n",
    "\n",
    "        self.grid_search = GridSearchCV(self.pipeline, self.param_grid, cv=cv, scoring=scoring)\n",
    "        self.best_model = None\n",
    "\n",
    "    def fit(self, X, y):\n",
    "        self.grid_search.fit(X, y)\n",
    "        self.best_model = self.grid_search.best_estimator_\n",
    "        print(\"Best Parameters:\", self.grid_search.best_params_)\n",
    "        print(\"Best Score:\", self.grid_search.best_score_)\n",
    "\n",
    "    def predict(self, X):\n",
    "        if self.best_model is None:\n",
    "            raise Exception(\"Model has not been trained. Call `.fit(X, y)` first.\")\n",
    "        return self.best_model.predict(X)\n",
    "    \n",
    "    def report(self, X, y_true):\n",
    "        y_pred = self.predict(X)\n",
    "        print(\"Classification Report:\\n\", classification_report(y_true, y_pred))\n"
   ]
  },
  {
   "cell_type": "code",
   "execution_count": 96,
   "id": "77e96885",
   "metadata": {},
   "outputs": [],
   "source": [
    "from sklearn.model_selection import train_test_split\n",
    "\n",
    "X_train, X_test, y_train, y_test = train_test_split(X_labelled_pca, y_labelled, test_size=0.3, random_state=42,  stratify=y_labelled)\n"
   ]
  },
  {
   "cell_type": "code",
   "execution_count": 97,
   "id": "77cc5022",
   "metadata": {},
   "outputs": [],
   "source": [
    "svm_clf = SVMClassifier(cv=10, param_grid = {\n",
    "    'svc__C': [0.1, 1, 10, 20, 30, 40, 50, 60, 70, 80, 90,  100],       \n",
    "    'svc__gamma': ['scale', 0.001, 0.01, 0.1, 1] \n",
    "}, kernel='rbf')"
   ]
  },
  {
   "cell_type": "code",
   "execution_count": 98,
   "id": "7298d128",
   "metadata": {},
   "outputs": [
    {
     "name": "stdout",
     "output_type": "stream",
     "text": [
      "Best Parameters: {'svc__C': 80, 'svc__gamma': 'scale'}\n",
      "Best Score: 0.8151682692307693\n"
     ]
    }
   ],
   "source": [
    "svm_clf.fit(X=X_train, y=y_train)"
   ]
  },
  {
   "cell_type": "code",
   "execution_count": 99,
   "id": "1fc97e99",
   "metadata": {},
   "outputs": [],
   "source": [
    "y_pred = svm_clf.predict(X=X_test)"
   ]
  },
  {
   "cell_type": "code",
   "execution_count": 100,
   "id": "dc04dc70",
   "metadata": {},
   "outputs": [
    {
     "name": "stdout",
     "output_type": "stream",
     "text": [
      "Classification Report:\n",
      "               precision    recall  f1-score   support\n",
      "\n",
      "       Anger       0.62      0.38      0.48        13\n",
      "    Contempt       0.14      0.20      0.17         5\n",
      "     Disgust       0.83      0.56      0.67        18\n",
      "        Fear       1.00      0.38      0.55         8\n",
      "   Happiness       0.95      0.86      0.90        21\n",
      "     Neutral       0.83      0.97      0.89       178\n",
      "     Sadness       0.67      0.25      0.36         8\n",
      "    Surprise       0.94      0.64      0.76        25\n",
      "\n",
      "    accuracy                           0.82       276\n",
      "   macro avg       0.75      0.53      0.60       276\n",
      "weighted avg       0.83      0.82      0.81       276\n",
      "\n"
     ]
    }
   ],
   "source": [
    "svm_clf.report(X=X_test, y_true=y_test)"
   ]
  },
  {
   "cell_type": "code",
   "execution_count": 101,
   "id": "aa47523d",
   "metadata": {},
   "outputs": [
    {
     "data": {
      "text/plain": [
       "array([[  5,   0,   0,   0,   0,   8,   0,   0],\n",
       "       [  0,   1,   0,   0,   0,   4,   0,   0],\n",
       "       [  0,   0,  10,   0,   1,   7,   0,   0],\n",
       "       [  0,   3,   0,   3,   0,   2,   0,   0],\n",
       "       [  1,   0,   1,   0,  18,   1,   0,   0],\n",
       "       [  1,   2,   1,   0,   0, 172,   1,   1],\n",
       "       [  1,   1,   0,   0,   0,   4,   2,   0],\n",
       "       [  0,   0,   0,   0,   0,   9,   0,  16]])"
      ]
     },
     "execution_count": 101,
     "metadata": {},
     "output_type": "execute_result"
    }
   ],
   "source": [
    "from sklearn.metrics import confusion_matrix\n",
    "\n",
    "cm = confusion_matrix(y_pred=y_pred, y_true=y_test)\n",
    "cm"
   ]
  },
  {
   "cell_type": "code",
   "execution_count": 62,
   "id": "c2e5ab76",
   "metadata": {},
   "outputs": [
    {
     "data": {
      "text/plain": [
       "{np.str_('Anger'): np.int64(13),\n",
       " np.str_('Contempt'): np.int64(5),\n",
       " np.str_('Disgust'): np.int64(18),\n",
       " np.str_('Fear'): np.int64(8),\n",
       " np.str_('Happiness'): np.int64(21),\n",
       " np.str_('Neutral'): np.int64(178),\n",
       " np.str_('Sadness'): np.int64(8),\n",
       " np.str_('Surprise'): np.int64(25)}"
      ]
     },
     "execution_count": 62,
     "metadata": {},
     "output_type": "execute_result"
    }
   ],
   "source": [
    "import numpy as np\n",
    "\n",
    "\n",
    "unique, counts = np.unique(y_test, return_counts=True)\n",
    "count_dict = dict(zip(unique, counts))\n",
    "\n",
    "count_dict"
   ]
  },
  {
   "cell_type": "code",
   "execution_count": null,
   "id": "07ca019e",
   "metadata": {},
   "outputs": [],
   "source": []
  }
 ],
 "metadata": {
  "kernelspec": {
   "display_name": "Python 3",
   "language": "python",
   "name": "python3"
  },
  "language_info": {
   "codemirror_mode": {
    "name": "ipython",
    "version": 3
   },
   "file_extension": ".py",
   "mimetype": "text/x-python",
   "name": "python",
   "nbconvert_exporter": "python",
   "pygments_lexer": "ipython3",
   "version": "3.12.10"
  }
 },
 "nbformat": 4,
 "nbformat_minor": 5
}
